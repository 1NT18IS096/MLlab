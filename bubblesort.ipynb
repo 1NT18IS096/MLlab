{
 "cells": [
  {
   "cell_type": "code",
   "execution_count": 1,
   "id": "dress-district",
   "metadata": {},
   "outputs": [],
   "source": [
    "arr=[4,5,3,6,7,1,8]\n"
   ]
  },
  {
   "cell_type": "code",
   "execution_count": 12,
   "id": "rising-experiment",
   "metadata": {},
   "outputs": [],
   "source": [
    "def bubblesort(a):\n",
    "    n=len(a)\n",
    "    for i in range(n):\n",
    "        j=i+1\n",
    "        for j in range(n):\n",
    "            if(a[i]<a[j]):\n",
    "                temp=a[i]\n",
    "                a[i]=a[j]\n",
    "                a[j]=temp\n",
    "    \n",
    "    return a;\n",
    "                "
   ]
  },
  {
   "cell_type": "code",
   "execution_count": 13,
   "id": "manual-ability",
   "metadata": {},
   "outputs": [
    {
     "data": {
      "text/plain": [
       "[1, 3, 4, 5, 6, 7, 8]"
      ]
     },
     "execution_count": 13,
     "metadata": {},
     "output_type": "execute_result"
    }
   ],
   "source": [
    "bubblesort(arr)"
   ]
  },
  {
   "cell_type": "code",
   "execution_count": null,
   "id": "cooperative-premises",
   "metadata": {},
   "outputs": [],
   "source": []
  }
 ],
 "metadata": {
  "kernelspec": {
   "display_name": "Python 3",
   "language": "python",
   "name": "python3"
  },
  "language_info": {
   "codemirror_mode": {
    "name": "ipython",
    "version": 3
   },
   "file_extension": ".py",
   "mimetype": "text/x-python",
   "name": "python",
   "nbconvert_exporter": "python",
   "pygments_lexer": "ipython3",
   "version": "3.7.3"
  }
 },
 "nbformat": 4,
 "nbformat_minor": 5
}
