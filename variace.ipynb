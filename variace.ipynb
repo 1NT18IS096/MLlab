{
 "cells": [
  {
   "cell_type": "code",
   "execution_count": 2,
   "id": "whole-commercial",
   "metadata": {},
   "outputs": [],
   "source": [
    "sample=[3,5,4,2,6,7,8]"
   ]
  },
  {
   "cell_type": "code",
   "execution_count": 4,
   "id": "exclusive-blind",
   "metadata": {},
   "outputs": [],
   "source": [
    "def mean(a):\n",
    "    n=len(a)\n",
    "    sum=0\n",
    "    for i in range(n):\n",
    "        sum=sum+a[i]\n",
    "        \n",
    "    return (sum/n)\n",
    "        "
   ]
  },
  {
   "cell_type": "code",
   "execution_count": 5,
   "id": "disciplinary-today",
   "metadata": {},
   "outputs": [
    {
     "data": {
      "text/plain": [
       "5.0"
      ]
     },
     "execution_count": 5,
     "metadata": {},
     "output_type": "execute_result"
    }
   ],
   "source": [
    "mean(sample)"
   ]
  },
  {
   "cell_type": "code",
   "execution_count": 23,
   "id": "earlier-knitting",
   "metadata": {},
   "outputs": [],
   "source": [
    "import math\n",
    "def variance(a):\n",
    "    n=len(a)\n",
    "    sum=0;\n",
    "    m=float(mean(a))\n",
    "    for i in range(n):\n",
    "        sum=float(sum)+float((a[i]-m)**2)\n",
    "    \n",
    "    var=float(sum)/float(n-1)\n",
    "    res=float(math.sqrt(var)) \n",
    "    return res"
   ]
  },
  {
   "cell_type": "code",
   "execution_count": 24,
   "id": "basic-azerbaijan",
   "metadata": {},
   "outputs": [
    {
     "data": {
      "text/plain": [
       "2.160246899469287"
      ]
     },
     "execution_count": 24,
     "metadata": {},
     "output_type": "execute_result"
    }
   ],
   "source": [
    "variance(sample)"
   ]
  },
  {
   "cell_type": "code",
   "execution_count": null,
   "id": "overall-strategy",
   "metadata": {},
   "outputs": [],
   "source": []
  }
 ],
 "metadata": {
  "kernelspec": {
   "display_name": "Python 3",
   "language": "python",
   "name": "python3"
  },
  "language_info": {
   "codemirror_mode": {
    "name": "ipython",
    "version": 3
   },
   "file_extension": ".py",
   "mimetype": "text/x-python",
   "name": "python",
   "nbconvert_exporter": "python",
   "pygments_lexer": "ipython3",
   "version": "3.7.3"
  }
 },
 "nbformat": 4,
 "nbformat_minor": 5
}
